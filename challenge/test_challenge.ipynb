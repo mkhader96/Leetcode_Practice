{
 "cells": [
  {
   "cell_type": "markdown",
   "metadata": {},
   "source": [
    "## Leet code\n",
    "\n",
    "For today you will be solving some selected challenges on leetcode, please create an account if you don't have then\n",
    "Follow the links below:\n",
    "read them carefully and solve them then copy-paste your solution below in Code Block\n"
   ]
  },
  {
   "cell_type": "markdown",
   "metadata": {},
   "source": [
    "### **Question-01**:\n",
    "-----\n"
   ]
  },
  {
   "cell_type": "markdown",
   "metadata": {},
   "source": [
    "##### [Roman-To-Integer](https://leetcode.com/problems/roman-to-integer/)\n",
    "\n",
    "Solution:\n"
   ]
  },
  {
   "cell_type": "code",
   "execution_count": 5,
   "metadata": {},
   "outputs": [],
   "source": [
    "def romanToInt(s: str) -> int:\n",
    "        counter = 0\n",
    "        for i in range(len(s)):\n",
    "            if i+1 < len(s) and s[i]== \"I\" and s[i+1]==\"V\":\n",
    "                counter = counter - 1\n",
    "            elif i+1 < len(s) and s[i]== \"I\" and s[i+1]==\"X\":\n",
    "                counter = counter - 1 \n",
    "            elif i+1 < len(s) and s[i]== \"X\" and s[i+1]==\"L\":\n",
    "                counter = counter - 10\n",
    "            elif i+1 < len(s) and s[i]== \"X\" and s[i+1]==\"C\":\n",
    "                counter = counter - 10\n",
    "            elif i+1 < len(s) and s[i]== \"C\" and s[i+1]==\"D\":\n",
    "                counter = counter - 100\n",
    "            elif i+1 < len(s) and s[i]== \"C\" and s[i+1]==\"M\":\n",
    "                counter = counter - 100\n",
    "            elif s[i] == \"I\":\n",
    "                counter = counter + 1\n",
    "            elif s[i] == \"V\":\n",
    "                counter = counter + 5\n",
    "            elif s[i] == \"X\":\n",
    "                counter = counter + 10\n",
    "            elif s[i] == \"L\":\n",
    "                counter = counter + 50\n",
    "            elif s[i] == \"C\":\n",
    "                counter = counter + 100\n",
    "            elif s[i] == \"D\":\n",
    "                counter = counter + 500\n",
    "            elif s[i] == \"M\":\n",
    "                counter = counter + 1000\n",
    "        return counter\n",
    "            \n",
    "        "
   ]
  },
  {
   "cell_type": "markdown",
   "metadata": {},
   "source": [
    "##### testing:"
   ]
  },
  {
   "cell_type": "code",
   "execution_count": 6,
   "metadata": {},
   "outputs": [],
   "source": [
    "\n",
    "assert  58  ==  romanToInt(\"LVIII\")\n",
    "assert 1994 ==  romanToInt(\"MCMXCIV\")\n",
    "assert 3    ==  romanToInt(\"III\")"
   ]
  },
  {
   "cell_type": "markdown",
   "metadata": {},
   "source": [
    "##### Big(O):\n",
    "##### Time Complexity: Big O(n)\n",
    "##### Space Complexity: Big O(n)"
   ]
  },
  {
   "cell_type": "markdown",
   "metadata": {},
   "source": []
  },
  {
   "cell_type": "markdown",
   "metadata": {},
   "source": [
    "### **Question-02**:\n",
    "--------"
   ]
  },
  {
   "cell_type": "markdown",
   "metadata": {},
   "source": [
    "##### [single-number](https://leetcode.com/problems/single-number/)\n",
    "\n",
    "Solution:\n"
   ]
  },
  {
   "cell_type": "code",
   "execution_count": 11,
   "metadata": {},
   "outputs": [],
   "source": [
    "\n",
    "def singleNumber(nums: list[int]) -> int:\n",
    "        result = 0\n",
    "        for i in nums:\n",
    "            result = i ^ result\n",
    "        return result"
   ]
  },
  {
   "cell_type": "markdown",
   "metadata": {},
   "source": [
    "##### testing:"
   ]
  },
  {
   "cell_type": "code",
   "execution_count": 18,
   "metadata": {},
   "outputs": [],
   "source": [
    "\n",
    "assert 1 ==  singleNumber([2,2,1])\n",
    "assert 4 ==  singleNumber([4,1,2,1,2])\n",
    "assert 1 ==  singleNumber([1])"
   ]
  },
  {
   "cell_type": "markdown",
   "metadata": {},
   "source": [
    "##### Big(O):"
   ]
  },
  {
   "cell_type": "markdown",
   "metadata": {},
   "source": [
    "##### Big(O):\n",
    "##### Time Complexity: Big O(n^2)\n",
    "##### Space Complexity: Big O(n)"
   ]
  },
  {
   "cell_type": "markdown",
   "metadata": {},
   "source": [
    "### **Question-03**:\n",
    "------"
   ]
  },
  {
   "cell_type": "markdown",
   "metadata": {},
   "source": [
    "##### [Move Zeroes](https://leetcode.com/problems/move-zeroes/)\n",
    "\n",
    "Solution:\n"
   ]
  },
  {
   "cell_type": "code",
   "execution_count": 27,
   "metadata": {},
   "outputs": [],
   "source": [
    "\n",
    "def moveZeroes(nums):\n",
    "        for i in range(len(nums)):\n",
    "            if(nums[i]==0):\n",
    "                nums.remove(nums[i])\n",
    "                nums.append(0)\n",
    "        return nums"
   ]
  },
  {
   "cell_type": "markdown",
   "metadata": {},
   "source": [
    "##### testing:"
   ]
  },
  {
   "cell_type": "code",
   "execution_count": 28,
   "metadata": {},
   "outputs": [],
   "source": [
    "assert [1,3,12,0,0] ==  moveZeroes([0,1,0,3,12])\n",
    "assert [0] ==  moveZeroes([0])\n",
    "assert [3,2,4,0,0,0] ==  moveZeroes([0,3,0,0,2,4])"
   ]
  },
  {
   "cell_type": "markdown",
   "metadata": {},
   "source": [
    "##### Big(O):"
   ]
  },
  {
   "cell_type": "markdown",
   "metadata": {},
   "source": [
    "##### Big(O):\n",
    "##### Time Complexity: Big O(n^2)\n",
    "##### Space Complexity: Big O(n)\n"
   ]
  },
  {
   "cell_type": "markdown",
   "metadata": {},
   "source": [
    "### **Question-04**:\n",
    "------"
   ]
  },
  {
   "cell_type": "markdown",
   "metadata": {},
   "source": [
    "##### [longest-common-prefix](https://leetcode.com/problems/longest-common-prefix/)\n",
    "\n",
    "Solution:\n"
   ]
  },
  {
   "cell_type": "code",
   "execution_count": 29,
   "metadata": {},
   "outputs": [],
   "source": [
    "def longestCommonPrefix(strs):\n",
    "        longest_pre = []\n",
    "        if strs and len(strs) > 0:\n",
    "            strs = sorted(strs)\n",
    "            first, last = strs[0], strs[-1]\n",
    "            for i in range(len(first)):\n",
    "                if len(last) > i and last[i] == first[i]:\n",
    "                    longest_pre.append(last[i])\n",
    "                else:\n",
    "                  return \"\".join(longest_pre)\n",
    "        return \"\".join(longest_pre)"
   ]
  },
  {
   "cell_type": "markdown",
   "metadata": {},
   "source": [
    "##### testing:"
   ]
  },
  {
   "cell_type": "code",
   "execution_count": 30,
   "metadata": {},
   "outputs": [],
   "source": [
    "assert\"fl\"==  longestCommonPrefix([\"flower\",\"flow\",\"flight\"])\n",
    "assert  \"\" ==  longestCommonPrefix ([\"dog\",\"racecar\",\"car\"])\n",
    "assert \"tra\" ==  longestCommonPrefix([\"transform\",\"transcribe\",\"train\"])"
   ]
  },
  {
   "cell_type": "markdown",
   "metadata": {},
   "source": [
    "##### Big(O):"
   ]
  },
  {
   "cell_type": "markdown",
   "metadata": {},
   "source": [
    "##### Big(O):\n",
    "##### Time Complexity: Big O(n)\n",
    "##### Space Complexity: Big O(n)"
   ]
  }
 ],
 "metadata": {
  "kernelspec": {
   "display_name": "Python 3.10.6 ('.venv': venv)",
   "language": "python",
   "name": "python3"
  },
  "language_info": {
   "codemirror_mode": {
    "name": "ipython",
    "version": 3
   },
   "file_extension": ".py",
   "mimetype": "text/x-python",
   "name": "python",
   "nbconvert_exporter": "python",
   "pygments_lexer": "ipython3",
   "version": "3.10.6"
  },
  "orig_nbformat": 4,
  "vscode": {
   "interpreter": {
    "hash": "e02980224265a52b29276f53ea16d954a7efa71a6808c9d80e77aad767398153"
   }
  }
 },
 "nbformat": 4,
 "nbformat_minor": 2
}
